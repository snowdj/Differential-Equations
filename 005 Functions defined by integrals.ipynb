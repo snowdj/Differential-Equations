{
 "cells": [
  {
   "cell_type": "markdown",
   "metadata": {},
   "source": [
    "<a rel=\"license\" href=\"http://creativecommons.org/licenses/by-nc/4.0/\"><img alt=\"Creative Commons License\" style=\"border-width:0\" src=\"https://i.creativecommons.org/l/by-nc/4.0/88x31.png\" /></a><br /><span xmlns:dct=\"http://purl.org/dc/terms/\" property=\"dct:title\">Differential equations</span> by <span xmlns:cc=\"http://creativecommons.org/ns#\" property=\"cc:attributionName\">Dr Juan H Klopper</span> is licensed under a <a rel=\"license\" href=\"http://creativecommons.org/licenses/by-nc/4.0/\">Creative Commons Attribution-NonCommercial 4.0 International License</a>."
   ]
  },
  {
   "cell_type": "code",
   "execution_count": 1,
   "metadata": {},
   "outputs": [
    {
     "data": {
      "text/html": [
       "<style>\n",
       "    @font-face {\n",
       "        font-family: \"Computer Modern\";\n",
       "        src: url('http://mirrors.ctan.org/fonts/cm-unicode/fonts/otf/cmunss.otf');\n",
       "    }\n",
       "    div.cell{\n",
       "        width: 90%;\n",
       "/*        margin-left:auto;*/\n",
       "/*        margin-right:auto;*/\n",
       "    }\n",
       "    ul {\n",
       "        line-height: 145%;\n",
       "        font-size: 90%;\n",
       "    }\n",
       "    li {\n",
       "        margin-bottom: 1em;\n",
       "    }\n",
       "    h1 {\n",
       "        font-family: Helvetica, serif;\n",
       "        color: rgb(0, 80, 120);\n",
       "    }\n",
       "    h2 {\n",
       "        color: rgb(0,100,110);\n",
       "    }\n",
       "    h3 {\n",
       "        color: rgb(94,127,192);\n",
       "    }\n",
       "    div.text_cell_render{\n",
       "        font-family: Computer Modern, \"Helvetica Neue\", Arial, Helvetica, Geneva, sans-serif;\n",
       "        line-height: 145%;\n",
       "        font-size: 130%;\n",
       "        width: 90%;\n",
       "        margin-left:auto;\n",
       "        margin-right:auto;\n",
       "    }\n",
       "    .CodeMirror{\n",
       "            font-family: \"Source Code Pro\", source-code-pro,Consolas, monospace;\n",
       "    }\n",
       "/*    .prompt{\n",
       "        display: None;\n",
       "    }*/\n",
       "    .text_cell_render h5 {\n",
       "        font-weight: 300;\n",
       "        font-size: 16pt;\n",
       "        color: #4057A1;\n",
       "        font-style: italic;\n",
       "        margin-bottom: 0.5em;\n",
       "        margin-top: 0.5em;\n",
       "        display: block;\n",
       "    }\n",
       "\n",
       "    .warning{\n",
       "        color: rgb( 240, 20, 20 )\n",
       "        }\n",
       "</style>"
      ],
      "text/plain": [
       "<IPython.core.display.HTML object>"
      ]
     },
     "execution_count": 1,
     "metadata": {},
     "output_type": "execute_result"
    }
   ],
   "source": [
    "from IPython.core.display import HTML, Image\n",
    "css_file = 'custom.css'\n",
    "HTML(open(css_file, 'r').read())"
   ]
  },
  {
   "cell_type": "code",
   "execution_count": 7,
   "metadata": {},
   "outputs": [],
   "source": [
    "from sympy import init_printing # Latex printing to screen\n",
    "from sympy import symbols, Function, dsolve # Sympy functions\n",
    "from numpy import linspace # Import numerical python\n",
    "from scipy.special import erf, erfc # The scipy error functions\n",
    "from matplotlib.pyplot import plot, ylim, legend # The plotting library\n",
    "from warnings import filterwarnings # Ignoring ugly pink warnings"
   ]
  },
  {
   "cell_type": "code",
   "execution_count": 3,
   "metadata": {
    "collapsed": true
   },
   "outputs": [],
   "source": [
    "init_printing(use_latex = 'mathjax')\n",
    "filterwarnings('ignore')\n",
    "%matplotlib inline"
   ]
  },
  {
   "cell_type": "markdown",
   "metadata": {
    "collapsed": true
   },
   "source": [
    "# Functions defined by integrals"
   ]
  },
  {
   "cell_type": "markdown",
   "metadata": {},
   "source": [
    "## In this lesson\n",
    "- [The error function](#The-error-function)\n",
    "- [Example](#Example)"
   ]
  },
  {
   "cell_type": "markdown",
   "metadata": {},
   "source": [
    "## The error function"
   ]
  },
  {
   "cell_type": "markdown",
   "metadata": {},
   "source": [
    "Not all functions have simple antiderivatives.  These functions are called **nonelementary functions**.  A good example of this would be:\n",
    "$$ \\int { \\sin { \\left( { t }^{ 2 } \\right)  }  } dt $$"
   ]
  },
  {
   "cell_type": "markdown",
   "metadata": {},
   "source": [
    "Let's have a look at a famous example called the **error function**.  It is used in probability, statistics and in partial differential equations.  It is written as:\n",
    "$$ erf \\left( x \\right) = \\frac{2}{\\sqrt{\\pi}}\\int _{ 0 }^{ x }{ { e }^{ -{ t }^{ 2 } } } dt $$\n",
    "There is also the **complimentary error function**:\n",
    "$$ erfc\\left( x \\right) =\\frac { 2 }{ \\sqrt { \\pi  }  } \\int _{ x }^{ \\infty  }{ { e }^{ -{ t }^{ 2 } } } dt $$"
   ]
  },
  {
   "cell_type": "markdown",
   "metadata": {},
   "source": [
    "Let's plot both functions with values from $ 0 $ to $ 10 $."
   ]
  },
  {
   "cell_type": "code",
   "execution_count": 4,
   "metadata": {
    "collapsed": true
   },
   "outputs": [],
   "source": [
    "x = linspace(0, 10, 100) # Create 100 values from 0 to 10\n",
    "y1 = erf(x)\n",
    "y2 = erfc(x)\n",
    "y3 = y1 + y2 # Note how erf(x) + erfc(x) = 1"
   ]
  },
  {
   "cell_type": "code",
   "execution_count": 10,
   "metadata": {},
   "outputs": [
    {
     "data": {
      "text/plain": [
       "<matplotlib.legend.Legend at 0x7f5c8982f5c0>"
      ]
     },
     "execution_count": 10,
     "metadata": {},
     "output_type": "execute_result"
    },
    {
     "data": {
      "image/png": "[encoded data removed]",
      "text/plain": [
       "<matplotlib.figure.Figure at 0x7f5c89f476a0>"
      ]
     },
     "metadata": {},
     "output_type": "display_data"
    }
   ],
   "source": [
    "plot(x, y1, \"b--\", label = \"erf\") # erf(x) in blue dotted line\n",
    "plot(x, y2, \"r--\",label = \"erfc\") # erfc(x) in red dotted line\n",
    "plot(x, y3, \"g-\") # erf(x) + erfc(x) in solid green line\n",
    "ylim(-0.5, 1.5); # Set y-axis limits\n",
    "\n",
    "legend()"
   ]
  },
  {
   "cell_type": "markdown",
   "metadata": {},
   "source": [
    "[Back to the top](#In-this-lesson)"
   ]
  },
  {
   "cell_type": "markdown",
   "metadata": {},
   "source": [
    "## Example"
   ]
  },
  {
   "cell_type": "markdown",
   "metadata": {},
   "source": [
    "$$ \\frac { dy }{ dt } -2ty=4\\\\ P\\left( t \\right) =-2t\\\\ \n",
    "{ e }^{ \\int { P\\left( t \\right)  } dt }={ e }^{ -2\\int { t } dt }={ e }^{ -{ t }^{ 2 } }\\\\ \n",
    "{ e }^{ -{ t }^{ 2 } }\\frac { dy }{ dt } -2t{ e }^{ -{ t }^{ 2 } }y=4{ e }^{ -{ t }^{ 2 } }\\\\ \n",
    "\\frac { d }{ dt } \\left( { e }^{ -{ t }^{ 2 } }y \\right) =4{ e }^{ -{ t }^{ 2 } }\\\\ \n",
    "\\int { \\frac { d }{ dt } \\left( { e }^{ -{ t }^{ 2 } }y \\right)  } dt=4\\int { { e }^{ -{ t }^{ 2 } } } dt\\\\ \n",
    "{ e }^{ -{ t }^{ 2 } }y\\left( t \\right) =4\\int { { e }^{ -{ t }^{ 2 } } } dt+c\\\\ \n",
    "y\\left( t \\right) =4{ e }^{ { t }^{ 2 } }\\int { { e }^{ -{ t }^{ 2 } } } dt+\\frac { c }{ 1 } { e }^{ { t }^{ 2 } } $$"
   ]
  },
  {
   "cell_type": "code",
   "execution_count": 11,
   "metadata": {
    "collapsed": true
   },
   "outputs": [],
   "source": [
    "t = symbols(\"t\")\n",
    "y = Function(\"y\")"
   ]
  },
  {
   "cell_type": "code",
   "execution_count": 12,
   "metadata": {},
   "outputs": [
    {
     "data": {
      "text/latex": [
       "$$- 2 t y{\\left (t \\right )} + \\frac{d}{d t} y{\\left (t \\right )} - 4$$"
      ],
      "text/plain": [
       "            d           \n",
       "-2⋅t⋅y(t) + ──(y(t)) - 4\n",
       "            dt          "
      ]
     },
     "execution_count": 12,
     "metadata": {},
     "output_type": "execute_result"
    }
   ],
   "source": [
    "ex = y(t).diff(t) - 2 * t * y(t) - 4\n",
    "ex"
   ]
  },
  {
   "cell_type": "code",
   "execution_count": 14,
   "metadata": {},
   "outputs": [
    {
     "data": {
      "text/latex": [
       "$$y{\\left (t \\right )} = \\left(C_{1} + 2 \\sqrt{\\pi} \\operatorname{erf}{\\left (t \\right )}\\right) e^{t^{2}}$$"
      ],
      "text/plain": [
       "                           ⎛ 2⎞\n",
       "                           ⎝t ⎠\n",
       "y(t) = (C₁ + 2⋅√π⋅erf(t))⋅ℯ    "
      ]
     },
     "execution_count": 14,
     "metadata": {},
     "output_type": "execute_result"
    }
   ],
   "source": [
    "dsolve(ex)"
   ]
  },
  {
   "cell_type": "markdown",
   "metadata": {},
   "source": [
    "[Back to the top](#In-this-lesson)"
   ]
  },
  {
   "cell_type": "code",
   "execution_count": null,
   "metadata": {
    "collapsed": true
   },
   "outputs": [],
   "source": []
  }
 ],
 "metadata": {
  "kernelspec": {
   "display_name": "Python 36",
   "language": "python",
   "name": "py36"
  },
  "language_info": {
   "codemirror_mode": {
    "name": "ipython",
    "version": 3
   },
   "file_extension": ".py",
   "mimetype": "text/x-python",
   "name": "python",
   "nbconvert_exporter": "python",
   "pygments_lexer": "ipython3",
   "version": "3.6.3"
  }
 },
 "nbformat": 4,
 "nbformat_minor": 1
}
